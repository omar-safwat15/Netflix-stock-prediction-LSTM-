{
 "cells": [
  {
   "cell_type": "markdown",
   "metadata": {},
   "source": [
    "# import Libraries & Data #"
   ]
  },
  {
   "cell_type": "code",
   "execution_count": 1,
   "metadata": {
    "id": "Xg6XVUmMYtgj"
   },
   "outputs": [
    {
     "name": "stderr",
     "output_type": "stream",
     "text": [
      "C:\\Users\\Roaya\\anaconda3\\lib\\site-packages\\scipy\\__init__.py:155: UserWarning: A NumPy version >=1.18.5 and <1.25.0 is required for this version of SciPy (detected version 1.26.0\n",
      "  warnings.warn(f\"A NumPy version >={np_minversion} and <{np_maxversion}\"\n"
     ]
    }
   ],
   "source": [
    "import numpy as np\n",
    "import pandas as pd\n",
    "import matplotlib.pyplot as plt\n",
    "import math as mt\n",
    "from tensorflow import keras\n",
    "from keras.models import Sequential\n",
    "from keras.layers import Dense\n",
    "from keras.layers import LSTM\n",
    "from sklearn.preprocessing import MinMaxScaler\n",
    "from sklearn.metrics import mean_squared_error"
   ]
  },
  {
   "cell_type": "code",
   "execution_count": 2,
   "metadata": {
    "id": "hbqZ3PBVYw1Q"
   },
   "outputs": [],
   "source": [
    "data = pd.read_csv(\"NFLX.csv\")"
   ]
  },
  {
   "cell_type": "code",
   "execution_count": 3,
   "metadata": {
    "colab": {
     "base_uri": "https://localhost:8080/",
     "height": 223
    },
    "id": "fUSMPv71ZqIm",
    "outputId": "b9f6e83e-bcc8-43a8-89e2-844b814ec028"
   },
   "outputs": [
    {
     "name": "stdout",
     "output_type": "stream",
     "text": [
      "(1009, 7)\n"
     ]
    },
    {
     "data": {
      "text/html": [
       "<div>\n",
       "<style scoped>\n",
       "    .dataframe tbody tr th:only-of-type {\n",
       "        vertical-align: middle;\n",
       "    }\n",
       "\n",
       "    .dataframe tbody tr th {\n",
       "        vertical-align: top;\n",
       "    }\n",
       "\n",
       "    .dataframe thead th {\n",
       "        text-align: right;\n",
       "    }\n",
       "</style>\n",
       "<table border=\"1\" class=\"dataframe\">\n",
       "  <thead>\n",
       "    <tr style=\"text-align: right;\">\n",
       "      <th></th>\n",
       "      <th>Date</th>\n",
       "      <th>Open</th>\n",
       "      <th>High</th>\n",
       "      <th>Low</th>\n",
       "      <th>Close</th>\n",
       "      <th>Adj Close</th>\n",
       "      <th>Volume</th>\n",
       "    </tr>\n",
       "  </thead>\n",
       "  <tbody>\n",
       "    <tr>\n",
       "      <th>0</th>\n",
       "      <td>2018-02-05</td>\n",
       "      <td>262.000000</td>\n",
       "      <td>267.899994</td>\n",
       "      <td>250.029999</td>\n",
       "      <td>254.259995</td>\n",
       "      <td>254.259995</td>\n",
       "      <td>11896100</td>\n",
       "    </tr>\n",
       "    <tr>\n",
       "      <th>1</th>\n",
       "      <td>2018-02-06</td>\n",
       "      <td>247.699997</td>\n",
       "      <td>266.700012</td>\n",
       "      <td>245.000000</td>\n",
       "      <td>265.720001</td>\n",
       "      <td>265.720001</td>\n",
       "      <td>12595800</td>\n",
       "    </tr>\n",
       "    <tr>\n",
       "      <th>2</th>\n",
       "      <td>2018-02-07</td>\n",
       "      <td>266.579987</td>\n",
       "      <td>272.450012</td>\n",
       "      <td>264.329987</td>\n",
       "      <td>264.559998</td>\n",
       "      <td>264.559998</td>\n",
       "      <td>8981500</td>\n",
       "    </tr>\n",
       "    <tr>\n",
       "      <th>3</th>\n",
       "      <td>2018-02-08</td>\n",
       "      <td>267.079987</td>\n",
       "      <td>267.619995</td>\n",
       "      <td>250.000000</td>\n",
       "      <td>250.100006</td>\n",
       "      <td>250.100006</td>\n",
       "      <td>9306700</td>\n",
       "    </tr>\n",
       "    <tr>\n",
       "      <th>4</th>\n",
       "      <td>2018-02-09</td>\n",
       "      <td>253.850006</td>\n",
       "      <td>255.800003</td>\n",
       "      <td>236.110001</td>\n",
       "      <td>249.470001</td>\n",
       "      <td>249.470001</td>\n",
       "      <td>16906900</td>\n",
       "    </tr>\n",
       "  </tbody>\n",
       "</table>\n",
       "</div>"
      ],
      "text/plain": [
       "         Date        Open        High         Low       Close   Adj Close  \\\n",
       "0  2018-02-05  262.000000  267.899994  250.029999  254.259995  254.259995   \n",
       "1  2018-02-06  247.699997  266.700012  245.000000  265.720001  265.720001   \n",
       "2  2018-02-07  266.579987  272.450012  264.329987  264.559998  264.559998   \n",
       "3  2018-02-08  267.079987  267.619995  250.000000  250.100006  250.100006   \n",
       "4  2018-02-09  253.850006  255.800003  236.110001  249.470001  249.470001   \n",
       "\n",
       "     Volume  \n",
       "0  11896100  \n",
       "1  12595800  \n",
       "2   8981500  \n",
       "3   9306700  \n",
       "4  16906900  "
      ]
     },
     "execution_count": 3,
     "metadata": {},
     "output_type": "execute_result"
    }
   ],
   "source": [
    "df = data.sort_values('Date')\n",
    "print(df.shape)\n",
    "df.head()"
   ]
  },
  {
   "cell_type": "code",
   "execution_count": 4,
   "metadata": {
    "colab": {
     "base_uri": "https://localhost:8080/"
    },
    "id": "utpCjitXZyBd",
    "outputId": "f8a9ec72-ae1a-48b8-ac16-ef29b36c4812"
   },
   "outputs": [
    {
     "name": "stdout",
     "output_type": "stream",
     "text": [
      "<class 'pandas.core.frame.DataFrame'>\n",
      "Int64Index: 1009 entries, 0 to 1008\n",
      "Data columns (total 7 columns):\n",
      " #   Column     Non-Null Count  Dtype  \n",
      "---  ------     --------------  -----  \n",
      " 0   Date       1009 non-null   object \n",
      " 1   Open       1009 non-null   float64\n",
      " 2   High       1009 non-null   float64\n",
      " 3   Low        1009 non-null   float64\n",
      " 4   Close      1009 non-null   float64\n",
      " 5   Adj Close  1009 non-null   float64\n",
      " 6   Volume     1009 non-null   int64  \n",
      "dtypes: float64(5), int64(1), object(1)\n",
      "memory usage: 63.1+ KB\n"
     ]
    }
   ],
   "source": [
    "df.info()"
   ]
  },
  {
   "cell_type": "code",
   "execution_count": 5,
   "metadata": {
    "colab": {
     "base_uri": "https://localhost:8080/",
     "height": 300
    },
    "id": "eiEF5jEuaHKg",
    "outputId": "07c7dd48-8c1e-40f9-b5c7-929f1f9a433a"
   },
   "outputs": [
    {
     "data": {
      "text/html": [
       "<div>\n",
       "<style scoped>\n",
       "    .dataframe tbody tr th:only-of-type {\n",
       "        vertical-align: middle;\n",
       "    }\n",
       "\n",
       "    .dataframe tbody tr th {\n",
       "        vertical-align: top;\n",
       "    }\n",
       "\n",
       "    .dataframe thead th {\n",
       "        text-align: right;\n",
       "    }\n",
       "</style>\n",
       "<table border=\"1\" class=\"dataframe\">\n",
       "  <thead>\n",
       "    <tr style=\"text-align: right;\">\n",
       "      <th></th>\n",
       "      <th>Open</th>\n",
       "      <th>High</th>\n",
       "      <th>Low</th>\n",
       "      <th>Close</th>\n",
       "      <th>Adj Close</th>\n",
       "      <th>Volume</th>\n",
       "    </tr>\n",
       "  </thead>\n",
       "  <tbody>\n",
       "    <tr>\n",
       "      <th>count</th>\n",
       "      <td>1009.000000</td>\n",
       "      <td>1009.000000</td>\n",
       "      <td>1009.000000</td>\n",
       "      <td>1009.000000</td>\n",
       "      <td>1009.000000</td>\n",
       "      <td>1.009000e+03</td>\n",
       "    </tr>\n",
       "    <tr>\n",
       "      <th>mean</th>\n",
       "      <td>419.059673</td>\n",
       "      <td>425.320703</td>\n",
       "      <td>412.374044</td>\n",
       "      <td>419.000733</td>\n",
       "      <td>419.000733</td>\n",
       "      <td>7.570685e+06</td>\n",
       "    </tr>\n",
       "    <tr>\n",
       "      <th>std</th>\n",
       "      <td>108.537532</td>\n",
       "      <td>109.262960</td>\n",
       "      <td>107.555867</td>\n",
       "      <td>108.289999</td>\n",
       "      <td>108.289999</td>\n",
       "      <td>5.465535e+06</td>\n",
       "    </tr>\n",
       "    <tr>\n",
       "      <th>min</th>\n",
       "      <td>233.919998</td>\n",
       "      <td>250.649994</td>\n",
       "      <td>231.229996</td>\n",
       "      <td>233.880005</td>\n",
       "      <td>233.880005</td>\n",
       "      <td>1.144000e+06</td>\n",
       "    </tr>\n",
       "    <tr>\n",
       "      <th>25%</th>\n",
       "      <td>331.489990</td>\n",
       "      <td>336.299988</td>\n",
       "      <td>326.000000</td>\n",
       "      <td>331.619995</td>\n",
       "      <td>331.619995</td>\n",
       "      <td>4.091900e+06</td>\n",
       "    </tr>\n",
       "    <tr>\n",
       "      <th>50%</th>\n",
       "      <td>377.769989</td>\n",
       "      <td>383.010010</td>\n",
       "      <td>370.880005</td>\n",
       "      <td>378.670013</td>\n",
       "      <td>378.670013</td>\n",
       "      <td>5.934500e+06</td>\n",
       "    </tr>\n",
       "    <tr>\n",
       "      <th>75%</th>\n",
       "      <td>509.130005</td>\n",
       "      <td>515.630005</td>\n",
       "      <td>502.529999</td>\n",
       "      <td>509.079987</td>\n",
       "      <td>509.079987</td>\n",
       "      <td>9.322400e+06</td>\n",
       "    </tr>\n",
       "    <tr>\n",
       "      <th>max</th>\n",
       "      <td>692.349976</td>\n",
       "      <td>700.989990</td>\n",
       "      <td>686.090027</td>\n",
       "      <td>691.690002</td>\n",
       "      <td>691.690002</td>\n",
       "      <td>5.890430e+07</td>\n",
       "    </tr>\n",
       "  </tbody>\n",
       "</table>\n",
       "</div>"
      ],
      "text/plain": [
       "              Open         High          Low        Close    Adj Close  \\\n",
       "count  1009.000000  1009.000000  1009.000000  1009.000000  1009.000000   \n",
       "mean    419.059673   425.320703   412.374044   419.000733   419.000733   \n",
       "std     108.537532   109.262960   107.555867   108.289999   108.289999   \n",
       "min     233.919998   250.649994   231.229996   233.880005   233.880005   \n",
       "25%     331.489990   336.299988   326.000000   331.619995   331.619995   \n",
       "50%     377.769989   383.010010   370.880005   378.670013   378.670013   \n",
       "75%     509.130005   515.630005   502.529999   509.079987   509.079987   \n",
       "max     692.349976   700.989990   686.090027   691.690002   691.690002   \n",
       "\n",
       "             Volume  \n",
       "count  1.009000e+03  \n",
       "mean   7.570685e+06  \n",
       "std    5.465535e+06  \n",
       "min    1.144000e+06  \n",
       "25%    4.091900e+06  \n",
       "50%    5.934500e+06  \n",
       "75%    9.322400e+06  \n",
       "max    5.890430e+07  "
      ]
     },
     "execution_count": 5,
     "metadata": {},
     "output_type": "execute_result"
    }
   ],
   "source": [
    "df.describe()"
   ]
  },
  {
   "cell_type": "code",
   "execution_count": 6,
   "metadata": {
    "colab": {
     "base_uri": "https://localhost:8080/",
     "height": 462
    },
    "id": "j9HmOIRAaidu",
    "outputId": "ac80a646-bebd-4fd3-8c06-2f8ebdc26bd5"
   },
   "outputs": [
    {
     "data": {
      "text/plain": [
       "[<matplotlib.lines.Line2D at 0x2988817aca0>]"
      ]
     },
     "execution_count": 6,
     "metadata": {},
     "output_type": "execute_result"
    },
    {
     "data": {
      "image/png": "[encoded data removed]",
      "text/plain": [
       "<Figure size 1000x500 with 1 Axes>"
      ]
     },
     "metadata": {},
     "output_type": "display_data"
    }
   ],
   "source": [
    "plt.figure(figsize=(10,5))\n",
    "plt.plot(df[\"Date\"],df[\"Close\"])"
   ]
  },
  {
   "cell_type": "code",
   "execution_count": 7,
   "metadata": {
    "colab": {
     "base_uri": "https://localhost:8080/"
    },
    "id": "unGCxbBKdF9a",
    "outputId": "f03a1f92-4860-4fe4-9590-d0f11748c2d2"
   },
   "outputs": [
    {
     "data": {
      "text/plain": [
       "array([[0.04451626],\n",
       "       [0.06954849],\n",
       "       [0.06701469],\n",
       "       ...,\n",
       "       [0.4272515 ],\n",
       "       [0.37509011],\n",
       "       [0.38507243]])"
      ]
     },
     "execution_count": 7,
     "metadata": {},
     "output_type": "execute_result"
    }
   ],
   "source": [
    "close_df = df[\"Close\"]\n",
    "scaler = MinMaxScaler(feature_range=(0,1))\n",
    "close_df = scaler.fit_transform(np.array(close_df).reshape(-1,1))\n",
    "close_df"
   ]
  },
  {
   "cell_type": "markdown",
   "metadata": {},
   "source": [
    "# Training Model #"
   ]
  },
  {
   "cell_type": "code",
   "execution_count": 8,
   "metadata": {
    "id": "wwGw94QOhU5z"
   },
   "outputs": [],
   "source": [
    "train_size = int(len(close_df)*0.7)\n",
    "test_size = len(close_df) - train_size\n",
    "train_data, test_data = close_df[0:train_size,:],close_df[train_size:len(close_df),:1]"
   ]
  },
  {
   "cell_type": "code",
   "execution_count": 9,
   "metadata": {
    "id": "1gUeIT4giN1H"
   },
   "outputs": [],
   "source": [
    "def create_dataset(dataset, time_step=1):\n",
    "    dataX, dataY = [],[]\n",
    "    for i in range(len(dataset)-time_step-1):\n",
    "        a = dataset[i:(i+time_step),0]\n",
    "        dataX.append(a)\n",
    "        dataY.append(dataset[i + time_step, 0])\n",
    "    return np.array(dataX), np.array(dataY)"
   ]
  },
  {
   "cell_type": "code",
   "execution_count": 10,
   "metadata": {
    "id": "CRi5XhNElST2"
   },
   "outputs": [],
   "source": [
    "time_step =100\n",
    "X_train, y_train = create_dataset(train_data, time_step)\n",
    "X_test, y_test =create_dataset(test_data, time_step)"
   ]
  },
  {
   "cell_type": "code",
   "execution_count": 11,
   "metadata": {
    "id": "LUg5wJ-fmY6D"
   },
   "outputs": [],
   "source": [
    "X_train = X_train.reshape(X_train.shape[0],X_train.shape[1], 1)\n",
    "X_test = X_test.reshape(X_test.shape[0],X_test.shape[1], 1)"
   ]
  },
  {
   "cell_type": "code",
   "execution_count": 12,
   "metadata": {
    "id": "EDXnAbQxnMgU"
   },
   "outputs": [],
   "source": [
    "model =Sequential()\n",
    "model.add(LSTM(50,return_sequences=True, input_shape=(100,1)))\n",
    "model.add(LSTM(50,return_sequences=True))\n",
    "model.add(LSTM(50))\n",
    "model.add(Dense(1))\n",
    "model.compile(loss='mean_squared_error', optimizer='adam')"
   ]
  },
  {
   "cell_type": "code",
   "execution_count": 13,
   "metadata": {
    "colab": {
     "base_uri": "https://localhost:8080/"
    },
    "id": "6GqLmXzmoEdZ",
    "outputId": "98284841-8399-4b3f-8df8-b2356deb2ff4"
   },
   "outputs": [
    {
     "name": "stdout",
     "output_type": "stream",
     "text": [
      "Model: \"sequential\"\n",
      "_________________________________________________________________\n",
      " Layer (type)                Output Shape              Param #   \n",
      "=================================================================\n",
      " lstm (LSTM)                 (None, 100, 50)           10400     \n",
      "                                                                 \n",
      " lstm_1 (LSTM)               (None, 100, 50)           20200     \n",
      "                                                                 \n",
      " lstm_2 (LSTM)               (None, 50)                20200     \n",
      "                                                                 \n",
      " dense (Dense)               (None, 1)                 51        \n",
      "                                                                 \n",
      "=================================================================\n",
      "Total params: 50851 (198.64 KB)\n",
      "Trainable params: 50851 (198.64 KB)\n",
      "Non-trainable params: 0 (0.00 Byte)\n",
      "_________________________________________________________________\n"
     ]
    }
   ],
   "source": [
    "model.summary()"
   ]
  },
  {
   "cell_type": "code",
   "execution_count": 14,
   "metadata": {
    "colab": {
     "base_uri": "https://localhost:8080/"
    },
    "id": "991MxqDVoPal",
    "outputId": "0cb72d85-e2a0-4e21-a69a-66bc1652d20e"
   },
   "outputs": [
    {
     "name": "stdout",
     "output_type": "stream",
     "text": [
      "Epoch 1/60\n",
      "9/9 [==============================] - 8s 256ms/step - loss: 0.0289 - val_loss: 0.0043\n",
      "Epoch 2/60\n",
      "9/9 [==============================] - 1s 134ms/step - loss: 0.0077 - val_loss: 0.0285\n",
      "Epoch 3/60\n",
      "9/9 [==============================] - 1s 133ms/step - loss: 0.0051 - val_loss: 0.0050\n",
      "Epoch 4/60\n",
      "9/9 [==============================] - 1s 130ms/step - loss: 0.0039 - val_loss: 0.0091\n",
      "Epoch 5/60\n",
      "9/9 [==============================] - 1s 133ms/step - loss: 0.0030 - val_loss: 0.0044\n",
      "Epoch 6/60\n",
      "9/9 [==============================] - 1s 140ms/step - loss: 0.0026 - val_loss: 0.0047\n",
      "Epoch 7/60\n",
      "9/9 [==============================] - 1s 149ms/step - loss: 0.0025 - val_loss: 0.0046\n",
      "Epoch 8/60\n",
      "9/9 [==============================] - 1s 151ms/step - loss: 0.0024 - val_loss: 0.0059\n",
      "Epoch 9/60\n",
      "9/9 [==============================] - 1s 149ms/step - loss: 0.0023 - val_loss: 0.0045\n",
      "Epoch 10/60\n",
      "9/9 [==============================] - 1s 143ms/step - loss: 0.0023 - val_loss: 0.0046\n",
      "Epoch 11/60\n",
      "9/9 [==============================] - 1s 146ms/step - loss: 0.0022 - val_loss: 0.0046\n",
      "Epoch 12/60\n",
      "9/9 [==============================] - 1s 144ms/step - loss: 0.0021 - val_loss: 0.0048\n",
      "Epoch 13/60\n",
      "9/9 [==============================] - 1s 142ms/step - loss: 0.0021 - val_loss: 0.0048\n",
      "Epoch 14/60\n",
      "9/9 [==============================] - 1s 131ms/step - loss: 0.0020 - val_loss: 0.0055\n",
      "Epoch 15/60\n",
      "9/9 [==============================] - 1s 132ms/step - loss: 0.0020 - val_loss: 0.0052\n",
      "Epoch 16/60\n",
      "9/9 [==============================] - 1s 136ms/step - loss: 0.0020 - val_loss: 0.0052\n",
      "Epoch 17/60\n",
      "9/9 [==============================] - 1s 144ms/step - loss: 0.0019 - val_loss: 0.0053\n",
      "Epoch 18/60\n",
      "9/9 [==============================] - 1s 153ms/step - loss: 0.0018 - val_loss: 0.0058\n",
      "Epoch 19/60\n",
      "9/9 [==============================] - 1s 145ms/step - loss: 0.0019 - val_loss: 0.0052\n",
      "Epoch 20/60\n",
      "9/9 [==============================] - 1s 153ms/step - loss: 0.0019 - val_loss: 0.0058\n",
      "Epoch 21/60\n",
      "9/9 [==============================] - 2s 170ms/step - loss: 0.0018 - val_loss: 0.0051\n",
      "Epoch 22/60\n",
      "9/9 [==============================] - 1s 150ms/step - loss: 0.0018 - val_loss: 0.0055\n",
      "Epoch 23/60\n",
      "9/9 [==============================] - 1s 147ms/step - loss: 0.0018 - val_loss: 0.0056\n",
      "Epoch 24/60\n",
      "9/9 [==============================] - 1s 138ms/step - loss: 0.0018 - val_loss: 0.0061\n",
      "Epoch 25/60\n",
      "9/9 [==============================] - 1s 138ms/step - loss: 0.0019 - val_loss: 0.0047\n",
      "Epoch 26/60\n",
      "9/9 [==============================] - 1s 132ms/step - loss: 0.0017 - val_loss: 0.0045\n",
      "Epoch 27/60\n",
      "9/9 [==============================] - 1s 140ms/step - loss: 0.0017 - val_loss: 0.0044\n",
      "Epoch 28/60\n",
      "9/9 [==============================] - 1s 151ms/step - loss: 0.0017 - val_loss: 0.0043\n",
      "Epoch 29/60\n",
      "9/9 [==============================] - 1s 151ms/step - loss: 0.0017 - val_loss: 0.0042\n",
      "Epoch 30/60\n",
      "9/9 [==============================] - 1s 150ms/step - loss: 0.0016 - val_loss: 0.0044\n",
      "Epoch 31/60\n",
      "9/9 [==============================] - 2s 179ms/step - loss: 0.0016 - val_loss: 0.0042\n",
      "Epoch 32/60\n",
      "9/9 [==============================] - 2s 212ms/step - loss: 0.0016 - val_loss: 0.0044\n",
      "Epoch 33/60\n",
      "9/9 [==============================] - 2s 185ms/step - loss: 0.0016 - val_loss: 0.0043\n",
      "Epoch 34/60\n",
      "9/9 [==============================] - 2s 184ms/step - loss: 0.0017 - val_loss: 0.0040\n",
      "Epoch 35/60\n",
      "9/9 [==============================] - 2s 199ms/step - loss: 0.0017 - val_loss: 0.0049\n",
      "Epoch 36/60\n",
      "9/9 [==============================] - 2s 225ms/step - loss: 0.0016 - val_loss: 0.0038\n",
      "Epoch 37/60\n",
      "9/9 [==============================] - 2s 246ms/step - loss: 0.0016 - val_loss: 0.0036\n",
      "Epoch 38/60\n",
      "9/9 [==============================] - 2s 209ms/step - loss: 0.0015 - val_loss: 0.0034\n",
      "Epoch 39/60\n",
      "9/9 [==============================] - 2s 170ms/step - loss: 0.0015 - val_loss: 0.0035\n",
      "Epoch 40/60\n",
      "9/9 [==============================] - 2s 205ms/step - loss: 0.0016 - val_loss: 0.0042\n",
      "Epoch 41/60\n",
      "9/9 [==============================] - 2s 168ms/step - loss: 0.0016 - val_loss: 0.0049\n",
      "Epoch 42/60\n",
      "9/9 [==============================] - 2s 173ms/step - loss: 0.0018 - val_loss: 0.0044\n",
      "Epoch 43/60\n",
      "9/9 [==============================] - 2s 202ms/step - loss: 0.0017 - val_loss: 0.0037\n",
      "Epoch 44/60\n",
      "9/9 [==============================] - 2s 195ms/step - loss: 0.0016 - val_loss: 0.0030\n",
      "Epoch 45/60\n",
      "9/9 [==============================] - 2s 216ms/step - loss: 0.0016 - val_loss: 0.0031\n",
      "Epoch 46/60\n",
      "9/9 [==============================] - 2s 194ms/step - loss: 0.0014 - val_loss: 0.0038\n",
      "Epoch 47/60\n",
      "9/9 [==============================] - 1s 160ms/step - loss: 0.0014 - val_loss: 0.0028\n",
      "Epoch 48/60\n",
      "9/9 [==============================] - 1s 138ms/step - loss: 0.0014 - val_loss: 0.0027\n",
      "Epoch 49/60\n",
      "9/9 [==============================] - 1s 135ms/step - loss: 0.0014 - val_loss: 0.0026\n",
      "Epoch 50/60\n",
      "9/9 [==============================] - 2s 181ms/step - loss: 0.0013 - val_loss: 0.0028\n",
      "Epoch 51/60\n",
      "9/9 [==============================] - 2s 191ms/step - loss: 0.0015 - val_loss: 0.0030\n",
      "Epoch 52/60\n",
      "9/9 [==============================] - 2s 182ms/step - loss: 0.0014 - val_loss: 0.0025\n",
      "Epoch 53/60\n",
      "9/9 [==============================] - 1s 167ms/step - loss: 0.0014 - val_loss: 0.0029\n",
      "Epoch 54/60\n",
      "9/9 [==============================] - 2s 195ms/step - loss: 0.0013 - val_loss: 0.0022\n",
      "Epoch 55/60\n",
      "9/9 [==============================] - 1s 148ms/step - loss: 0.0013 - val_loss: 0.0022\n",
      "Epoch 56/60\n",
      "9/9 [==============================] - 2s 172ms/step - loss: 0.0013 - val_loss: 0.0021\n",
      "Epoch 57/60\n",
      "9/9 [==============================] - 1s 150ms/step - loss: 0.0013 - val_loss: 0.0020\n",
      "Epoch 58/60\n",
      "9/9 [==============================] - 1s 135ms/step - loss: 0.0012 - val_loss: 0.0021\n",
      "Epoch 59/60\n",
      "9/9 [==============================] - 1s 135ms/step - loss: 0.0012 - val_loss: 0.0019\n",
      "Epoch 60/60\n",
      "9/9 [==============================] - 1s 136ms/step - loss: 0.0011 - val_loss: 0.0019\n"
     ]
    },
    {
     "data": {
      "text/plain": [
       "<keras.src.callbacks.History at 0x2988c1ddb80>"
      ]
     },
     "execution_count": 14,
     "metadata": {},
     "output_type": "execute_result"
    }
   ],
   "source": [
    "model.fit(X_train,y_train, validation_split=0.1, epochs=60, batch_size=64,verbose=1)"
   ]
  },
  {
   "cell_type": "markdown",
   "metadata": {},
   "source": [
    "# Predict #"
   ]
  },
  {
   "cell_type": "code",
   "execution_count": 15,
   "metadata": {
    "colab": {
     "base_uri": "https://localhost:8080/"
    },
    "id": "wjQQSAZRpLoC",
    "outputId": "c40106e1-5ef7-4732-d136-4594d66c799e"
   },
   "outputs": [
    {
     "name": "stdout",
     "output_type": "stream",
     "text": [
      "19/19 [==============================] - 2s 30ms/step\n",
      "7/7 [==============================] - 0s 28ms/step\n"
     ]
    }
   ],
   "source": [
    "train_predict =model.predict(X_train)\n",
    "test_predict = model.predict(X_test)"
   ]
  },
  {
   "cell_type": "code",
   "execution_count": 16,
   "metadata": {
    "id": "553fmf4SqTbX"
   },
   "outputs": [],
   "source": [
    "train_predict = scaler.inverse_transform(train_predict)\n",
    "test_predict = scaler.inverse_transform(test_predict)"
   ]
  },
  {
   "cell_type": "code",
   "execution_count": 17,
   "metadata": {
    "colab": {
     "base_uri": "https://localhost:8080/"
    },
    "id": "UpwfEWnfqtg1",
    "outputId": "82e84759-4938-4591-964c-0b548baf7171"
   },
   "outputs": [
    {
     "data": {
      "text/plain": [
       "373.1144596721916"
      ]
     },
     "execution_count": 17,
     "metadata": {},
     "output_type": "execute_result"
    }
   ],
   "source": [
    "mt.sqrt(mean_squared_error(y_train, train_predict))"
   ]
  },
  {
   "cell_type": "code",
   "execution_count": 18,
   "metadata": {
    "colab": {
     "base_uri": "https://localhost:8080/"
    },
    "id": "ynJr7c5Fq-41",
    "outputId": "8a9b542d-8d2d-491a-f9cf-22fd0a1530b3"
   },
   "outputs": [
    {
     "data": {
      "text/plain": [
       "561.3519150341125"
      ]
     },
     "execution_count": 18,
     "metadata": {},
     "output_type": "execute_result"
    }
   ],
   "source": [
    "mt.sqrt(mean_squared_error(y_test, test_predict))"
   ]
  },
  {
   "cell_type": "markdown",
   "metadata": {},
   "source": [
    "# Prediction vs Actual  #"
   ]
  },
  {
   "cell_type": "code",
   "execution_count": 19,
   "metadata": {
    "colab": {
     "base_uri": "https://localhost:8080/",
     "height": 445
    },
    "id": "VBuXb2IdrJ3N",
    "outputId": "fa4bd3a9-3320-4d79-ae8a-b2b6a5652499"
   },
   "outputs": [
    {
     "data": {
      "image/png": "[encoded data removed]",
      "text/plain": [
       "<Figure size 1000x500 with 1 Axes>"
      ]
     },
     "metadata": {},
     "output_type": "display_data"
    }
   ],
   "source": [
    "look_back =100\n",
    "trainPredictPlot = np.empty_like(close_df)\n",
    "trainPredictPlot[:, :] = np.nan\n",
    "trainPredictPlot[look_back:len(train_predict)+look_back, :] = train_predict\n",
    "\n",
    "testPredictPlot = np.empty_like(close_df)\n",
    "testPredictPlot[:, :] = np.nan\n",
    "testPredictPlot[len(train_predict)+(look_back*2)+1:len(close_df)-1,:]=test_predict\n",
    "\n",
    "plt.figure(figsize=(10,5))\n",
    "plt.plot(scaler.inverse_transform(close_df))\n",
    "plt.plot(trainPredictPlot)\n",
    "plt.plot(testPredictPlot)\n",
    "plt.show()"
   ]
  },
  {
   "cell_type": "code",
   "execution_count": null,
   "metadata": {
    "id": "FM5QBYp1uFp3"
   },
   "outputs": [],
   "source": []
  }
 ],
 "metadata": {
  "colab": {
   "provenance": []
  },
  "kernelspec": {
   "display_name": "Python 3 (ipykernel)",
   "language": "python",
   "name": "python3"
  },
  "language_info": {
   "codemirror_mode": {
    "name": "ipython",
    "version": 3
   },
   "file_extension": ".py",
   "mimetype": "text/x-python",
   "name": "python",
   "nbconvert_exporter": "python",
   "pygments_lexer": "ipython3",
   "version": "3.9.13"
  }
 },
 "nbformat": 4,
 "nbformat_minor": 1
}
